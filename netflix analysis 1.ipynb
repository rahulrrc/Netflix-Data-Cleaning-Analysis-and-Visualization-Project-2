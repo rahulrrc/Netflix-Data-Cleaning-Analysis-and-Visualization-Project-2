{
 "cells": [
  {
   "cell_type": "code",
   "execution_count": 3,
   "metadata": {
    "id": "89owRW969g9K"
   },
   "outputs": [],
   "source": [
    "import pandas as pd\n",
    "import numpy as np\n",
    "import matplotlib.pyplot as plt\n",
    "import seaborn as sns"
   ]
  },
  {
   "cell_type": "code",
   "execution_count": 4,
   "metadata": {
    "id": "sq3p524I9u51"
   },
   "outputs": [],
   "source": [
    "data = pd.read_csv('C:/Users/rahul/Desktop/Unified Mentor/Project 2 Netflix Data Cleaning, Analysis and Visualization/netflix dataset.xlsx')"
   ]
  },
  {
   "cell_type": "code",
   "execution_count": 5,
   "metadata": {
    "colab": {
     "base_uri": "https://localhost:8080/",
     "height": 869
    },
    "id": "soxOYMTkQP-c",
    "outputId": "b87b3854-44b0-455d-97d9-e128e04c3964"
   },
   "outputs": [
    {
     "data": {
      "text/html": [
       "\n",
       "  <div id=\"df-6fa48ef5-89eb-4387-876c-9bd52b2c6d37\">\n",
       "    <div class=\"colab-df-container\">\n",
       "      <div>\n",
       "<style scoped>\n",
       "    .dataframe tbody tr th:only-of-type {\n",
       "        vertical-align: middle;\n",
       "    }\n",
       "\n",
       "    .dataframe tbody tr th {\n",
       "        vertical-align: top;\n",
       "    }\n",
       "\n",
       "    .dataframe thead th {\n",
       "        text-align: right;\n",
       "    }\n",
       "</style>\n",
       "<table border=\"1\" class=\"dataframe\">\n",
       "  <thead>\n",
       "    <tr style=\"text-align: right;\">\n",
       "      <th></th>\n",
       "      <th>show_id</th>\n",
       "      <th>type</th>\n",
       "      <th>title</th>\n",
       "      <th>director</th>\n",
       "      <th>country</th>\n",
       "      <th>date_added</th>\n",
       "      <th>release_year</th>\n",
       "      <th>rating</th>\n",
       "      <th>duration</th>\n",
       "      <th>listed_in</th>\n",
       "    </tr>\n",
       "  </thead>\n",
       "  <tbody>\n",
       "    <tr>\n",
       "      <th>0</th>\n",
       "      <td>s1</td>\n",
       "      <td>Movie</td>\n",
       "      <td>Dick Johnson Is Dead</td>\n",
       "      <td>Kirsten Johnson</td>\n",
       "      <td>United States</td>\n",
       "      <td>9/25/2021</td>\n",
       "      <td>2020</td>\n",
       "      <td>PG-13</td>\n",
       "      <td>90 min</td>\n",
       "      <td>Documentaries</td>\n",
       "    </tr>\n",
       "    <tr>\n",
       "      <th>1</th>\n",
       "      <td>s3</td>\n",
       "      <td>TV Show</td>\n",
       "      <td>Ganglands</td>\n",
       "      <td>Julien Leclercq</td>\n",
       "      <td>France</td>\n",
       "      <td>9/24/2021</td>\n",
       "      <td>2021</td>\n",
       "      <td>TV-MA</td>\n",
       "      <td>1 Season</td>\n",
       "      <td>Crime TV Shows, International TV Shows, TV Act...</td>\n",
       "    </tr>\n",
       "    <tr>\n",
       "      <th>2</th>\n",
       "      <td>s6</td>\n",
       "      <td>TV Show</td>\n",
       "      <td>Midnight Mass</td>\n",
       "      <td>Mike Flanagan</td>\n",
       "      <td>United States</td>\n",
       "      <td>9/24/2021</td>\n",
       "      <td>2021</td>\n",
       "      <td>TV-MA</td>\n",
       "      <td>1 Season</td>\n",
       "      <td>TV Dramas, TV Horror, TV Mysteries</td>\n",
       "    </tr>\n",
       "    <tr>\n",
       "      <th>3</th>\n",
       "      <td>s14</td>\n",
       "      <td>Movie</td>\n",
       "      <td>Confessions of an Invisible Girl</td>\n",
       "      <td>Bruno Garotti</td>\n",
       "      <td>Brazil</td>\n",
       "      <td>9/22/2021</td>\n",
       "      <td>2021</td>\n",
       "      <td>TV-PG</td>\n",
       "      <td>91 min</td>\n",
       "      <td>Children &amp; Family Movies, Comedies</td>\n",
       "    </tr>\n",
       "    <tr>\n",
       "      <th>4</th>\n",
       "      <td>s8</td>\n",
       "      <td>Movie</td>\n",
       "      <td>Sankofa</td>\n",
       "      <td>Haile Gerima</td>\n",
       "      <td>United States</td>\n",
       "      <td>9/24/2021</td>\n",
       "      <td>1993</td>\n",
       "      <td>TV-MA</td>\n",
       "      <td>125 min</td>\n",
       "      <td>Dramas, Independent Movies, International Movies</td>\n",
       "    </tr>\n",
       "    <tr>\n",
       "      <th>...</th>\n",
       "      <td>...</td>\n",
       "      <td>...</td>\n",
       "      <td>...</td>\n",
       "      <td>...</td>\n",
       "      <td>...</td>\n",
       "      <td>...</td>\n",
       "      <td>...</td>\n",
       "      <td>...</td>\n",
       "      <td>...</td>\n",
       "      <td>...</td>\n",
       "    </tr>\n",
       "    <tr>\n",
       "      <th>8785</th>\n",
       "      <td>s8797</td>\n",
       "      <td>TV Show</td>\n",
       "      <td>Yunus Emre</td>\n",
       "      <td>Not Given</td>\n",
       "      <td>Turkey</td>\n",
       "      <td>1/17/2017</td>\n",
       "      <td>2016</td>\n",
       "      <td>TV-PG</td>\n",
       "      <td>2 Seasons</td>\n",
       "      <td>International TV Shows, TV Dramas</td>\n",
       "    </tr>\n",
       "    <tr>\n",
       "      <th>8786</th>\n",
       "      <td>s8798</td>\n",
       "      <td>TV Show</td>\n",
       "      <td>Zak Storm</td>\n",
       "      <td>Not Given</td>\n",
       "      <td>United States</td>\n",
       "      <td>9/13/2018</td>\n",
       "      <td>2016</td>\n",
       "      <td>TV-Y7</td>\n",
       "      <td>3 Seasons</td>\n",
       "      <td>Kids' TV</td>\n",
       "    </tr>\n",
       "    <tr>\n",
       "      <th>8787</th>\n",
       "      <td>s8801</td>\n",
       "      <td>TV Show</td>\n",
       "      <td>Zindagi Gulzar Hai</td>\n",
       "      <td>Not Given</td>\n",
       "      <td>Pakistan</td>\n",
       "      <td>12/15/2016</td>\n",
       "      <td>2012</td>\n",
       "      <td>TV-PG</td>\n",
       "      <td>1 Season</td>\n",
       "      <td>International TV Shows, Romantic TV Shows, TV ...</td>\n",
       "    </tr>\n",
       "    <tr>\n",
       "      <th>8788</th>\n",
       "      <td>s8784</td>\n",
       "      <td>TV Show</td>\n",
       "      <td>Yoko</td>\n",
       "      <td>Not Given</td>\n",
       "      <td>Pakistan</td>\n",
       "      <td>6/23/2018</td>\n",
       "      <td>2016</td>\n",
       "      <td>TV-Y</td>\n",
       "      <td>1 Season</td>\n",
       "      <td>Kids' TV</td>\n",
       "    </tr>\n",
       "    <tr>\n",
       "      <th>8789</th>\n",
       "      <td>s8786</td>\n",
       "      <td>TV Show</td>\n",
       "      <td>YOM</td>\n",
       "      <td>Not Given</td>\n",
       "      <td>Pakistan</td>\n",
       "      <td>6/7/2018</td>\n",
       "      <td>2016</td>\n",
       "      <td>TV-Y7</td>\n",
       "      <td>1 Season</td>\n",
       "      <td>Kids' TV</td>\n",
       "    </tr>\n",
       "  </tbody>\n",
       "</table>\n",
       "<p>8790 rows × 10 columns</p>\n",
       "</div>\n",
       "      <button class=\"colab-df-convert\" onclick=\"convertToInteractive('df-6fa48ef5-89eb-4387-876c-9bd52b2c6d37')\"\n",
       "              title=\"Convert this dataframe to an interactive table.\"\n",
       "              style=\"display:none;\">\n",
       "        \n",
       "  <svg xmlns=\"http://www.w3.org/2000/svg\" height=\"24px\"viewBox=\"0 0 24 24\"\n",
       "       width=\"24px\">\n",
       "    <path d=\"M0 0h24v24H0V0z\" fill=\"none\"/>\n",
       "    <path d=\"M18.56 5.44l.94 2.06.94-2.06 2.06-.94-2.06-.94-.94-2.06-.94 2.06-2.06.94zm-11 1L8.5 8.5l.94-2.06 2.06-.94-2.06-.94L8.5 2.5l-.94 2.06-2.06.94zm10 10l.94 2.06.94-2.06 2.06-.94-2.06-.94-.94-2.06-.94 2.06-2.06.94z\"/><path d=\"M17.41 7.96l-1.37-1.37c-.4-.4-.92-.59-1.43-.59-.52 0-1.04.2-1.43.59L10.3 9.45l-7.72 7.72c-.78.78-.78 2.05 0 2.83L4 21.41c.39.39.9.59 1.41.59.51 0 1.02-.2 1.41-.59l7.78-7.78 2.81-2.81c.8-.78.8-2.07 0-2.86zM5.41 20L4 18.59l7.72-7.72 1.47 1.35L5.41 20z\"/>\n",
       "  </svg>\n",
       "      </button>\n",
       "      \n",
       "  <style>\n",
       "    .colab-df-container {\n",
       "      display:flex;\n",
       "      flex-wrap:wrap;\n",
       "      gap: 12px;\n",
       "    }\n",
       "\n",
       "    .colab-df-convert {\n",
       "      background-color: #E8F0FE;\n",
       "      border: none;\n",
       "      border-radius: 50%;\n",
       "      cursor: pointer;\n",
       "      display: none;\n",
       "      fill: #1967D2;\n",
       "      height: 32px;\n",
       "      padding: 0 0 0 0;\n",
       "      width: 32px;\n",
       "    }\n",
       "\n",
       "    .colab-df-convert:hover {\n",
       "      background-color: #E2EBFA;\n",
       "      box-shadow: 0px 1px 2px rgba(60, 64, 67, 0.3), 0px 1px 3px 1px rgba(60, 64, 67, 0.15);\n",
       "      fill: #174EA6;\n",
       "    }\n",
       "\n",
       "    [theme=dark] .colab-df-convert {\n",
       "      background-color: #3B4455;\n",
       "      fill: #D2E3FC;\n",
       "    }\n",
       "\n",
       "    [theme=dark] .colab-df-convert:hover {\n",
       "      background-color: #434B5C;\n",
       "      box-shadow: 0px 1px 3px 1px rgba(0, 0, 0, 0.15);\n",
       "      filter: drop-shadow(0px 1px 2px rgba(0, 0, 0, 0.3));\n",
       "      fill: #FFFFFF;\n",
       "    }\n",
       "  </style>\n",
       "\n",
       "      <script>\n",
       "        const buttonEl =\n",
       "          document.querySelector('#df-6fa48ef5-89eb-4387-876c-9bd52b2c6d37 button.colab-df-convert');\n",
       "        buttonEl.style.display =\n",
       "          google.colab.kernel.accessAllowed ? 'block' : 'none';\n",
       "\n",
       "        async function convertToInteractive(key) {\n",
       "          const element = document.querySelector('#df-6fa48ef5-89eb-4387-876c-9bd52b2c6d37');\n",
       "          const dataTable =\n",
       "            await google.colab.kernel.invokeFunction('convertToInteractive',\n",
       "                                                     [key], {});\n",
       "          if (!dataTable) return;\n",
       "\n",
       "          const docLinkHtml = 'Like what you see? Visit the ' +\n",
       "            '<a target=\"_blank\" href=https://colab.research.google.com/notebooks/data_table.ipynb>data table notebook</a>'\n",
       "            + ' to learn more about interactive tables.';\n",
       "          element.innerHTML = '';\n",
       "          dataTable['output_type'] = 'display_data';\n",
       "          await google.colab.output.renderOutput(dataTable, element);\n",
       "          const docLink = document.createElement('div');\n",
       "          docLink.innerHTML = docLinkHtml;\n",
       "          element.appendChild(docLink);\n",
       "        }\n",
       "      </script>\n",
       "    </div>\n",
       "  </div>\n",
       "  "
      ],
      "text/plain": [
       "     show_id     type                             title         director  \\\n",
       "0         s1    Movie              Dick Johnson Is Dead  Kirsten Johnson   \n",
       "1         s3  TV Show                         Ganglands  Julien Leclercq   \n",
       "2         s6  TV Show                     Midnight Mass    Mike Flanagan   \n",
       "3        s14    Movie  Confessions of an Invisible Girl    Bruno Garotti   \n",
       "4         s8    Movie                           Sankofa     Haile Gerima   \n",
       "...      ...      ...                               ...              ...   \n",
       "8785   s8797  TV Show                        Yunus Emre        Not Given   \n",
       "8786   s8798  TV Show                         Zak Storm        Not Given   \n",
       "8787   s8801  TV Show                Zindagi Gulzar Hai        Not Given   \n",
       "8788   s8784  TV Show                              Yoko        Not Given   \n",
       "8789   s8786  TV Show                               YOM        Not Given   \n",
       "\n",
       "            country  date_added  release_year rating   duration  \\\n",
       "0     United States   9/25/2021          2020  PG-13     90 min   \n",
       "1            France   9/24/2021          2021  TV-MA   1 Season   \n",
       "2     United States   9/24/2021          2021  TV-MA   1 Season   \n",
       "3            Brazil   9/22/2021          2021  TV-PG     91 min   \n",
       "4     United States   9/24/2021          1993  TV-MA    125 min   \n",
       "...             ...         ...           ...    ...        ...   \n",
       "8785         Turkey   1/17/2017          2016  TV-PG  2 Seasons   \n",
       "8786  United States   9/13/2018          2016  TV-Y7  3 Seasons   \n",
       "8787       Pakistan  12/15/2016          2012  TV-PG   1 Season   \n",
       "8788       Pakistan   6/23/2018          2016   TV-Y   1 Season   \n",
       "8789       Pakistan    6/7/2018          2016  TV-Y7   1 Season   \n",
       "\n",
       "                                              listed_in  \n",
       "0                                         Documentaries  \n",
       "1     Crime TV Shows, International TV Shows, TV Act...  \n",
       "2                    TV Dramas, TV Horror, TV Mysteries  \n",
       "3                    Children & Family Movies, Comedies  \n",
       "4      Dramas, Independent Movies, International Movies  \n",
       "...                                                 ...  \n",
       "8785                  International TV Shows, TV Dramas  \n",
       "8786                                           Kids' TV  \n",
       "8787  International TV Shows, Romantic TV Shows, TV ...  \n",
       "8788                                           Kids' TV  \n",
       "8789                                           Kids' TV  \n",
       "\n",
       "[8790 rows x 10 columns]"
      ]
     },
     "execution_count": 5,
     "metadata": {},
     "output_type": "execute_result"
    }
   ],
   "source": [
    "data"
   ]
  },
  {
   "cell_type": "code",
   "execution_count": 7,
   "metadata": {
    "colab": {
     "base_uri": "https://localhost:8080/"
    },
    "id": "T8eI7Yw-Qe3n",
    "outputId": "bda18f34-19c2-435b-b22e-2373adb57046"
   },
   "outputs": [
    {
     "data": {
      "text/plain": [
       "87900"
      ]
     },
     "execution_count": 7,
     "metadata": {},
     "output_type": "execute_result"
    }
   ],
   "source": [
    "data.size"
   ]
  },
  {
   "cell_type": "code",
   "execution_count": 8,
   "metadata": {
    "colab": {
     "base_uri": "https://localhost:8080/"
    },
    "id": "Kr0SGtGeQv9g",
    "outputId": "3bbb1f10-fb73-423b-c29a-ef5616e36439"
   },
   "outputs": [
    {
     "name": "stdout",
     "output_type": "stream",
     "text": [
      "<class 'pandas.core.frame.DataFrame'>\n",
      "RangeIndex: 8790 entries, 0 to 8789\n",
      "Data columns (total 10 columns):\n",
      " #   Column        Non-Null Count  Dtype \n",
      "---  ------        --------------  ----- \n",
      " 0   show_id       8790 non-null   object\n",
      " 1   type          8790 non-null   object\n",
      " 2   title         8790 non-null   object\n",
      " 3   director      8790 non-null   object\n",
      " 4   country       8790 non-null   object\n",
      " 5   date_added    8790 non-null   object\n",
      " 6   release_year  8790 non-null   int64 \n",
      " 7   rating        8790 non-null   object\n",
      " 8   duration      8790 non-null   object\n",
      " 9   listed_in     8790 non-null   object\n",
      "dtypes: int64(1), object(9)\n",
      "memory usage: 686.8+ KB\n"
     ]
    }
   ],
   "source": [
    "data.info()"
   ]
  },
  {
   "cell_type": "code",
   "execution_count": 12,
   "metadata": {
    "colab": {
     "base_uri": "https://localhost:8080/"
    },
    "id": "dxcbmIBSQ06t",
    "outputId": "c41c5e2d-d409-4196-a0f2-1662bb28976f"
   },
   "outputs": [
    {
     "data": {
      "text/plain": [
       "<bound method NDFrame._add_numeric_operations.<locals>.sum of show_id  type   title  director  country  date_added  release_year  rating  duration  listed_in\n",
       "False    False  False  False     False    False       False         False   False     False        8790\n",
       "dtype: int64>"
      ]
     },
     "execution_count": 12,
     "metadata": {},
     "output_type": "execute_result"
    }
   ],
   "source": [
    "data.isnull().value_counts()"
   ]
  },
  {
   "cell_type": "code",
   "execution_count": 13,
   "metadata": {
    "id": "CuVH8O4hRO25"
   },
   "outputs": [],
   "source": [
    "data= data.drop_duplicates()"
   ]
  },
  {
   "cell_type": "markdown",
   "metadata": {
    "id": "SaqlWZb4RQZO"
   },
   "source": [
    "As you can see most of the dataset is already clean so we don't have to clean the given dataset.\n",
    "Let's Analyse and Visualize the given dataset."
   ]
  },
  {
   "cell_type": "code",
   "execution_count": 14,
   "metadata": {
    "colab": {
     "base_uri": "https://localhost:8080/",
     "height": 493
    },
    "id": "jGrnBc8LRe6c",
    "outputId": "aa6d97ed-cbae-4629-f3ef-a7896129e0ad"
   },
   "outputs": [
    {
     "data": {
      "text/html": [
       "\n",
       "  <div id=\"df-3403f2b3-da0f-4607-8047-7b44922030ed\">\n",
       "    <div class=\"colab-df-container\">\n",
       "      <div>\n",
       "<style scoped>\n",
       "    .dataframe tbody tr th:only-of-type {\n",
       "        vertical-align: middle;\n",
       "    }\n",
       "\n",
       "    .dataframe tbody tr th {\n",
       "        vertical-align: top;\n",
       "    }\n",
       "\n",
       "    .dataframe thead th {\n",
       "        text-align: right;\n",
       "    }\n",
       "</style>\n",
       "<table border=\"1\" class=\"dataframe\">\n",
       "  <thead>\n",
       "    <tr style=\"text-align: right;\">\n",
       "      <th></th>\n",
       "      <th>show_id</th>\n",
       "      <th>type</th>\n",
       "      <th>title</th>\n",
       "      <th>director</th>\n",
       "      <th>country</th>\n",
       "      <th>date_added</th>\n",
       "      <th>release_year</th>\n",
       "      <th>rating</th>\n",
       "      <th>duration</th>\n",
       "      <th>listed_in</th>\n",
       "    </tr>\n",
       "  </thead>\n",
       "  <tbody>\n",
       "    <tr>\n",
       "      <th>0</th>\n",
       "      <td>s1</td>\n",
       "      <td>Movie</td>\n",
       "      <td>Dick Johnson Is Dead</td>\n",
       "      <td>Kirsten Johnson</td>\n",
       "      <td>United States</td>\n",
       "      <td>9/25/2021</td>\n",
       "      <td>2020</td>\n",
       "      <td>PG-13</td>\n",
       "      <td>90 min</td>\n",
       "      <td>Documentaries</td>\n",
       "    </tr>\n",
       "    <tr>\n",
       "      <th>1</th>\n",
       "      <td>s3</td>\n",
       "      <td>TV Show</td>\n",
       "      <td>Ganglands</td>\n",
       "      <td>Julien Leclercq</td>\n",
       "      <td>France</td>\n",
       "      <td>9/24/2021</td>\n",
       "      <td>2021</td>\n",
       "      <td>TV-MA</td>\n",
       "      <td>1 Season</td>\n",
       "      <td>Crime TV Shows, International TV Shows, TV Act...</td>\n",
       "    </tr>\n",
       "    <tr>\n",
       "      <th>2</th>\n",
       "      <td>s6</td>\n",
       "      <td>TV Show</td>\n",
       "      <td>Midnight Mass</td>\n",
       "      <td>Mike Flanagan</td>\n",
       "      <td>United States</td>\n",
       "      <td>9/24/2021</td>\n",
       "      <td>2021</td>\n",
       "      <td>TV-MA</td>\n",
       "      <td>1 Season</td>\n",
       "      <td>TV Dramas, TV Horror, TV Mysteries</td>\n",
       "    </tr>\n",
       "    <tr>\n",
       "      <th>3</th>\n",
       "      <td>s14</td>\n",
       "      <td>Movie</td>\n",
       "      <td>Confessions of an Invisible Girl</td>\n",
       "      <td>Bruno Garotti</td>\n",
       "      <td>Brazil</td>\n",
       "      <td>9/22/2021</td>\n",
       "      <td>2021</td>\n",
       "      <td>TV-PG</td>\n",
       "      <td>91 min</td>\n",
       "      <td>Children &amp; Family Movies, Comedies</td>\n",
       "    </tr>\n",
       "    <tr>\n",
       "      <th>4</th>\n",
       "      <td>s8</td>\n",
       "      <td>Movie</td>\n",
       "      <td>Sankofa</td>\n",
       "      <td>Haile Gerima</td>\n",
       "      <td>United States</td>\n",
       "      <td>9/24/2021</td>\n",
       "      <td>1993</td>\n",
       "      <td>TV-MA</td>\n",
       "      <td>125 min</td>\n",
       "      <td>Dramas, Independent Movies, International Movies</td>\n",
       "    </tr>\n",
       "  </tbody>\n",
       "</table>\n",
       "</div>\n",
       "      <button class=\"colab-df-convert\" onclick=\"convertToInteractive('df-3403f2b3-da0f-4607-8047-7b44922030ed')\"\n",
       "              title=\"Convert this dataframe to an interactive table.\"\n",
       "              style=\"display:none;\">\n",
       "        \n",
       "  <svg xmlns=\"http://www.w3.org/2000/svg\" height=\"24px\"viewBox=\"0 0 24 24\"\n",
       "       width=\"24px\">\n",
       "    <path d=\"M0 0h24v24H0V0z\" fill=\"none\"/>\n",
       "    <path d=\"M18.56 5.44l.94 2.06.94-2.06 2.06-.94-2.06-.94-.94-2.06-.94 2.06-2.06.94zm-11 1L8.5 8.5l.94-2.06 2.06-.94-2.06-.94L8.5 2.5l-.94 2.06-2.06.94zm10 10l.94 2.06.94-2.06 2.06-.94-2.06-.94-.94-2.06-.94 2.06-2.06.94z\"/><path d=\"M17.41 7.96l-1.37-1.37c-.4-.4-.92-.59-1.43-.59-.52 0-1.04.2-1.43.59L10.3 9.45l-7.72 7.72c-.78.78-.78 2.05 0 2.83L4 21.41c.39.39.9.59 1.41.59.51 0 1.02-.2 1.41-.59l7.78-7.78 2.81-2.81c.8-.78.8-2.07 0-2.86zM5.41 20L4 18.59l7.72-7.72 1.47 1.35L5.41 20z\"/>\n",
       "  </svg>\n",
       "      </button>\n",
       "      \n",
       "  <style>\n",
       "    .colab-df-container {\n",
       "      display:flex;\n",
       "      flex-wrap:wrap;\n",
       "      gap: 12px;\n",
       "    }\n",
       "\n",
       "    .colab-df-convert {\n",
       "      background-color: #E8F0FE;\n",
       "      border: none;\n",
       "      border-radius: 50%;\n",
       "      cursor: pointer;\n",
       "      display: none;\n",
       "      fill: #1967D2;\n",
       "      height: 32px;\n",
       "      padding: 0 0 0 0;\n",
       "      width: 32px;\n",
       "    }\n",
       "\n",
       "    .colab-df-convert:hover {\n",
       "      background-color: #E2EBFA;\n",
       "      box-shadow: 0px 1px 2px rgba(60, 64, 67, 0.3), 0px 1px 3px 1px rgba(60, 64, 67, 0.15);\n",
       "      fill: #174EA6;\n",
       "    }\n",
       "\n",
       "    [theme=dark] .colab-df-convert {\n",
       "      background-color: #3B4455;\n",
       "      fill: #D2E3FC;\n",
       "    }\n",
       "\n",
       "    [theme=dark] .colab-df-convert:hover {\n",
       "      background-color: #434B5C;\n",
       "      box-shadow: 0px 1px 3px 1px rgba(0, 0, 0, 0.15);\n",
       "      filter: drop-shadow(0px 1px 2px rgba(0, 0, 0, 0.3));\n",
       "      fill: #FFFFFF;\n",
       "    }\n",
       "  </style>\n",
       "\n",
       "      <script>\n",
       "        const buttonEl =\n",
       "          document.querySelector('#df-3403f2b3-da0f-4607-8047-7b44922030ed button.colab-df-convert');\n",
       "        buttonEl.style.display =\n",
       "          google.colab.kernel.accessAllowed ? 'block' : 'none';\n",
       "\n",
       "        async function convertToInteractive(key) {\n",
       "          const element = document.querySelector('#df-3403f2b3-da0f-4607-8047-7b44922030ed');\n",
       "          const dataTable =\n",
       "            await google.colab.kernel.invokeFunction('convertToInteractive',\n",
       "                                                     [key], {});\n",
       "          if (!dataTable) return;\n",
       "\n",
       "          const docLinkHtml = 'Like what you see? Visit the ' +\n",
       "            '<a target=\"_blank\" href=https://colab.research.google.com/notebooks/data_table.ipynb>data table notebook</a>'\n",
       "            + ' to learn more about interactive tables.';\n",
       "          element.innerHTML = '';\n",
       "          dataTable['output_type'] = 'display_data';\n",
       "          await google.colab.output.renderOutput(dataTable, element);\n",
       "          const docLink = document.createElement('div');\n",
       "          docLink.innerHTML = docLinkHtml;\n",
       "          element.appendChild(docLink);\n",
       "        }\n",
       "      </script>\n",
       "    </div>\n",
       "  </div>\n",
       "  "
      ],
      "text/plain": [
       "  show_id     type                             title         director  \\\n",
       "0      s1    Movie              Dick Johnson Is Dead  Kirsten Johnson   \n",
       "1      s3  TV Show                         Ganglands  Julien Leclercq   \n",
       "2      s6  TV Show                     Midnight Mass    Mike Flanagan   \n",
       "3     s14    Movie  Confessions of an Invisible Girl    Bruno Garotti   \n",
       "4      s8    Movie                           Sankofa     Haile Gerima   \n",
       "\n",
       "         country date_added  release_year rating  duration  \\\n",
       "0  United States  9/25/2021          2020  PG-13    90 min   \n",
       "1         France  9/24/2021          2021  TV-MA  1 Season   \n",
       "2  United States  9/24/2021          2021  TV-MA  1 Season   \n",
       "3         Brazil  9/22/2021          2021  TV-PG    91 min   \n",
       "4  United States  9/24/2021          1993  TV-MA   125 min   \n",
       "\n",
       "                                           listed_in  \n",
       "0                                      Documentaries  \n",
       "1  Crime TV Shows, International TV Shows, TV Act...  \n",
       "2                 TV Dramas, TV Horror, TV Mysteries  \n",
       "3                 Children & Family Movies, Comedies  \n",
       "4   Dramas, Independent Movies, International Movies  "
      ]
     },
     "execution_count": 14,
     "metadata": {},
     "output_type": "execute_result"
    }
   ],
   "source": [
    "data.head()"
   ]
  },
  {
   "cell_type": "code",
   "execution_count": 15,
   "metadata": {
    "id": "jfxxfa-2Rs18"
   },
   "outputs": [],
   "source": [
    "data['release_year']=pd.to_datetime(data['release_year'])\n",
    "data['Years']=data['release_year'].dt.year"
   ]
  },
  {
   "cell_type": "code",
   "execution_count": 16,
   "metadata": {
    "colab": {
     "base_uri": "https://localhost:8080/",
     "height": 441
    },
    "id": "lgZ2E2tvSWf1",
    "outputId": "1ec19cb9-7fd6-4a55-d685-cb91ab3e8553"
   },
   "outputs": [
    {
     "data": {
      "text/plain": [
       "<matplotlib.axes._subplots.AxesSubplot at 0x7fad989118d0>"
      ]
     },
     "execution_count": 16,
     "metadata": {},
     "output_type": "execute_result"
    },
    {
     "data": {
      "image/png": "[encoded data removed]",
      "text/plain": [
       "<Figure size 432x288 with 1 Axes>"
      ]
     },
     "metadata": {
      "needs_background": "light"
     },
     "output_type": "display_data"
    }
   ],
   "source": [
    "year = data.release_year.value_counts()\n",
    "year[:10].plot(kind = 'bar')"
   ]
  },
  {
   "cell_type": "markdown",
   "metadata": {
    "id": "vKPd4rx-SdkY"
   },
   "source": [
    "Most of the movies are been released in 1970"
   ]
  },
  {
   "cell_type": "code",
   "execution_count": 17,
   "metadata": {
    "colab": {
     "base_uri": "https://localhost:8080/",
     "height": 353
    },
    "id": "DPzZrzMkSiGF",
    "outputId": "ffe5026a-536d-40b0-c9b6-3e60fc8d22a5"
   },
   "outputs": [
    {
     "data": {
      "text/plain": [
       "<matplotlib.axes._subplots.AxesSubplot at 0x7fad98815190>"
      ]
     },
     "execution_count": 17,
     "metadata": {},
     "output_type": "execute_result"
    },
    {
     "data": {
      "image/png": "[encoded data removed]",
      "text/plain": [
       "<Figure size 432x288 with 1 Axes>"
      ]
     },
     "metadata": {
      "needs_background": "light"
     },
     "output_type": "display_data"
    }
   ],
   "source": [
    "top_10_country = data.country.value_counts()\n",
    "top_10_country[:10].plot(kind = 'bar')"
   ]
  },
  {
   "cell_type": "code",
   "execution_count": 21,
   "metadata": {
    "colab": {
     "base_uri": "https://localhost:8080/",
     "height": 265
    },
    "id": "RvFCfhM_UAex",
    "outputId": "26e25edd-41cc-4b7b-b3a0-d8fb371e2f10"
   },
   "outputs": [
    {
     "data": {
      "text/plain": [
       "<matplotlib.axes._subplots.AxesSubplot at 0x7fad98287a10>"
      ]
     },
     "execution_count": 21,
     "metadata": {},
     "output_type": "execute_result"
    },
    {
     "data": {
      "image/png": "[encoded data removed]",
      "text/plain": [
       "<Figure size 432x288 with 1 Axes>"
      ]
     },
     "metadata": {},
     "output_type": "display_data"
    }
   ],
   "source": [
    "data_country = data.country.value_counts()\n",
    "data_country[:7].plot(kind = 'pie',autopct ='%1.1f%%')"
   ]
  },
  {
   "cell_type": "markdown",
   "metadata": {
    "id": "5p3uND2ySnmI"
   },
   "source": [
    "Most of the movies and TV shows are been filmed in United States and the rest are the top 10 countries."
   ]
  },
  {
   "cell_type": "code",
   "execution_count": 18,
   "metadata": {
    "colab": {
     "base_uri": "https://localhost:8080/"
    },
    "id": "1O-txXTlS6hW",
    "outputId": "042bc2f6-6091-46dd-d92f-71f297fe96f9"
   },
   "outputs": [
    {
     "data": {
      "text/plain": [
       "TV-MA       3205\n",
       "TV-14       2157\n",
       "TV-PG        861\n",
       "R            799\n",
       "PG-13        490\n",
       "TV-Y7        333\n",
       "TV-Y         306\n",
       "PG           287\n",
       "TV-G         220\n",
       "NR            79\n",
       "G             41\n",
       "TV-Y7-FV       6\n",
       "NC-17          3\n",
       "UR             3\n",
       "Name: rating, dtype: int64"
      ]
     },
     "execution_count": 18,
     "metadata": {},
     "output_type": "execute_result"
    }
   ],
   "source": [
    "data.rating.value_counts()"
   ]
  },
  {
   "cell_type": "markdown",
   "metadata": {
    "id": "sHuPZvRBTASd"
   },
   "source": [
    "Most ratings are given to the TV shows in the Dataset"
   ]
  },
  {
   "cell_type": "code",
   "execution_count": 19,
   "metadata": {
    "colab": {
     "base_uri": "https://localhost:8080/",
     "height": 527
    },
    "id": "ZCC6qQFkTF9s",
    "outputId": "b728441a-010f-49e6-8310-4848c88b4c65"
   },
   "outputs": [
    {
     "data": {
      "text/plain": [
       "<matplotlib.axes._subplots.AxesSubplot at 0x7fad982f3810>"
      ]
     },
     "execution_count": 19,
     "metadata": {},
     "output_type": "execute_result"
    },
    {
     "data": {
      "image/png": "[encoded data removed]",
      "text/plain": [
       "<Figure size 432x288 with 1 Axes>"
      ]
     },
     "metadata": {
      "needs_background": "light"
     },
     "output_type": "display_data"
    }
   ],
   "source": [
    "top_10_types = data.listed_in.value_counts()\n",
    "top_10_types[:10].plot(kind = 'bar')"
   ]
  },
  {
   "cell_type": "code",
   "execution_count": 22,
   "metadata": {
    "colab": {
     "base_uri": "https://localhost:8080/",
     "height": 265
    },
    "id": "OLVqeCDlUF-I",
    "outputId": "a63120da-9642-4362-b865-317b0caef34d"
   },
   "outputs": [
    {
     "data": {
      "text/plain": [
       "<matplotlib.axes._subplots.AxesSubplot at 0x7fad98172610>"
      ]
     },
     "execution_count": 22,
     "metadata": {},
     "output_type": "execute_result"
    },
    {
     "data": {
      "image/png": "[encoded data removed]",
      "text/plain": [
       "<Figure size 432x288 with 1 Axes>"
      ]
     },
     "metadata": {},
     "output_type": "display_data"
    }
   ],
   "source": [
    "data_list= data.listed_in.value_counts()\n",
    "data_list[:7].plot(kind = 'pie',autopct ='%1.1f%%')"
   ]
  },
  {
   "cell_type": "markdown",
   "metadata": {
    "id": "_3KmPokNTOuc"
   },
   "source": [
    "These are the top 10 listed categories and top is the Dramas and international movies."
   ]
  }
 ],
 "metadata": {
  "colab": {
   "collapsed_sections": [],
   "provenance": []
  },
  "kernelspec": {
   "display_name": "Python 3 (ipykernel)",
   "language": "python",
   "name": "python3"
  },
  "language_info": {
   "codemirror_mode": {
    "name": "ipython",
    "version": 3
   },
   "file_extension": ".py",
   "mimetype": "text/x-python",
   "name": "python",
   "nbconvert_exporter": "python",
   "pygments_lexer": "ipython3",
   "version": "3.13.1"
  }
 },
 "nbformat": 4,
 "nbformat_minor": 4
}
